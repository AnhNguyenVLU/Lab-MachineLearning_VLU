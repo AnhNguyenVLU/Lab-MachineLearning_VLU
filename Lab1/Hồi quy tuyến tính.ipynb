{
 "cells": [
  {
   "cell_type": "markdown",
   "metadata": {},
   "source": [
    "# LAB 1: Hồi quy tuyến tính"
   ]
  },
  {
   "cell_type": "code",
   "execution_count": 1,
   "metadata": {},
   "outputs": [],
   "source": [
    "import numpy as np\n",
    "#Cho chiều cao của các bạn sinh viên trong lớp lần lượt là (180, 162, 183, 174, 160, 163, 180, 165, 175, 170, 170, 169, 168, 175, 169, 171, 155, 158, 175, 165) cm\n",
    "X = np.array([180, 162, 183, 174, 160, 163, 180, 165, 175, 170, 170, 169,\n",
    "              168, 175, 169, 171, 155, 158, 175, 165]).reshape(-1,1)"
   ]
  },
  {
   "cell_type": "markdown",
   "metadata": {},
   "source": [
    "Biến X chứa các số đo chiều cao sinh viên\n",
    "\n",
    "Biến Y chứa các số đo cân nặng của sinh viên"
   ]
  },
  {
   "cell_type": "code",
   "execution_count": 2,
   "metadata": {},
   "outputs": [],
   "source": [
    "# Cho cân nặng của các bạn sinh viên trong lớp lần lượt là( 86, 55, 86.5, 70, 62, 54, 60, 72, 93, 89, 60, 82, 59, 75, 56, 89, 45, 60, 60, 72)\n",
    "y = np.array([86, 55, 86.5, 70, 62, 54, 60, 72, 93, 89, 60, 82, 59, 75,\n",
    "              56, 89, 45, 60, 60, 72]).reshape((-1,1))# Chuyển Y về dạng ma trận 1 cột và 20 dòng"
   ]
  },
  {
   "cell_type": "markdown",
   "metadata": {},
   "source": [
    "Thay đổi về hình dạng thành mỗi mảng thành một vectơ cột.\n",
    "\n",
    "Lưu ý rằng chúng ta có một tham số $ \\theta_0 $, là thuật ngữ $y$ -intercept trong mô hình tuyến tính của chúng ta. Không có biến độc lập nào cho nhiều $ \\theta_0 $, vì vậy chúng ta phải chèn một cột gồm 1 tương ứng với ($ \\theta_0 $):"
   ]
  },
  {
   "cell_type": "code",
   "execution_count": 3,
   "metadata": {},
   "outputs": [
    {
     "name": "stdout",
     "output_type": "stream",
     "text": [
      "X sau khi thêm biến giả 1: [[  1 180]\n",
      " [  1 162]\n",
      " [  1 183]\n",
      " [  1 174]\n",
      " [  1 160]\n",
      " [  1 163]\n",
      " [  1 180]\n",
      " [  1 165]\n",
      " [  1 175]\n",
      " [  1 170]\n",
      " [  1 170]\n",
      " [  1 169]\n",
      " [  1 168]\n",
      " [  1 175]\n",
      " [  1 169]\n",
      " [  1 171]\n",
      " [  1 155]\n",
      " [  1 158]\n",
      " [  1 175]\n",
      " [  1 165]]\n"
     ]
    }
   ],
   "source": [
    "X = np.insert(X, 0, 1, axis=1)\n",
    "print('X sau khi thêm biến giả 1:', X)"
   ]
  },
  {
   "cell_type": "markdown",
   "metadata": {},
   "source": [
    "Khi chúng ta có X và y, chúng ta có thể sử dụng phương trình chuẩn để tìm các giá trị tối ưu của $ \\theta_0 $ và $ \\theta_1 $ cho giả thuyết $ h_ \\theta (x) = \\theta_0 + \\theta_1 x $:"
   ]
  },
  {
   "cell_type": "markdown",
   "metadata": {},
   "source": [
    "$$ \\theta_{}  = (X^T X)^{-1}X^Ty $$"
   ]
  },
  {
   "cell_type": "code",
   "execution_count": 4,
   "metadata": {},
   "outputs": [
    {
     "name": "stdout",
     "output_type": "stream",
     "text": [
      "[[-114.75365641]\n",
      " [   1.08667645]]\n"
     ]
    }
   ],
   "source": [
    "from numpy.linalg import inv\n",
    "theta = inv(X.T @ X) @ X.T @ y\n",
    "print(theta)"
   ]
  },
  {
   "cell_type": "markdown",
   "metadata": {},
   "source": [
    "Với chiều cao của một người ($x$), chúng ta dự đoán cân nặng của họ là:\n",
    "$$\\hat{y} = \\theta_0 + \\theta_1 x$$\n",
    "$$\\hat{y} = -114.75365641 + 1.08667645 x$$"
   ]
  },
  {
   "cell_type": "markdown",
   "metadata": {},
   "source": [
    "Chúng ta có thể vẽ đường thẳng bằng cách sử dụng hai giá trị cho 𝑥:"
   ]
  },
  {
   "cell_type": "code",
   "execution_count": 5,
   "metadata": {},
   "outputs": [
    {
     "data": {
      "text/plain": [
       "Text(0.5, 1.0, 'Chiều cao và cân nặng của sinh viên VLU')"
      ]
     },
     "execution_count": 5,
     "metadata": {},
     "output_type": "execute_result"
    },
    {
     "data": {
      "image/png": "[encoded data removed]",
      "text/plain": [
       "<Figure size 432x288 with 1 Axes>"
      ]
     },
     "metadata": {
      "needs_background": "light"
     },
     "output_type": "display_data"
    }
   ],
   "source": [
    "import matplotlib.pyplot as plt\n",
    "x1 = 150\n",
    "y1 = theta[0] + theta[1] * x1\n",
    "x2 = 190\n",
    "y2 = theta[0] + theta[1] * x2\n",
    "\n",
    "plt.plot([x1, x2], [y1, y2], 'r-')\n",
    "plt.plot(X[:,1], y[:,0], 'bo')\n",
    "\n",
    "plt.xlabel('Chiều cao')\n",
    "plt.ylabel('Cân nặng')\n",
    "plt.title('Chiều cao và cân nặng của sinh viên VLU')"
   ]
  },
  {
   "cell_type": "markdown",
   "metadata": {},
   "source": [
    "## BÀI TẬP TRÊN LỚP - VỀ NHÀ "
   ]
  },
  {
   "cell_type": "code",
   "execution_count": null,
   "metadata": {},
   "outputs": [],
   "source": []
  }
 ],
 "metadata": {
  "kernelspec": {
   "display_name": "Python 3",
   "language": "python",
   "name": "python3"
  },
  "language_info": {
   "codemirror_mode": {
    "name": "ipython",
    "version": 3
   },
   "file_extension": ".py",
   "mimetype": "text/x-python",
   "name": "python",
   "nbconvert_exporter": "python",
   "pygments_lexer": "ipython3",
   "version": "3.8.3"
  }
 },
 "nbformat": 4,
 "nbformat_minor": 4
}
